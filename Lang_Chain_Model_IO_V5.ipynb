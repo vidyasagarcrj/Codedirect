{
  "cells": [
    {
      "cell_type": "markdown",
      "metadata": {
        "id": "view-in-github",
        "colab_type": "text"
      },
      "source": [
        "<a href=\"https://colab.research.google.com/github/vidyasagarcrj/Codedirect/blob/main/Lang_Chain_Model_IO_V5.ipynb\" target=\"_parent\"><img src=\"https://colab.research.google.com/assets/colab-badge.svg\" alt=\"Open In Colab\"/></a>"
      ]
    },
    {
      "cell_type": "markdown",
      "metadata": {
        "id": "aqwCqXwpSat9"
      },
      "source": [
        "# Packages"
      ]
    },
    {
      "cell_type": "code",
      "execution_count": null,
      "metadata": {
        "id": "jdG6aBMEW7Pf"
      },
      "outputs": [],
      "source": [
        "!pip install openai --quiet\n",
        "!pip install langchain --quiet\n",
        "!pip install langchain-cohere\n",
        "!pip install langchain-community --quiet"
      ]
    },
    {
      "cell_type": "code",
      "execution_count": null,
      "metadata": {
        "id": "vuYX6JM3XAE9"
      },
      "outputs": [],
      "source": [
        "import os\n",
        "os.environ['OPENAI_API_KEY'] = \"Your OpenAI Key\"\n",
        "os.environ[\"COHERE_API_KEY\"] = \"Your Cohere Key\"\n",
        "\n",
        "#Better way\n",
        "#from google.colab import userdata\n",
        "#os.environ['OPENAI_API_KEY'] = userdata.get(\"OPENAI_API_KEY\")\n",
        "#os.environ['COHERE_API_KEY'] = userdata.get(\"COHERE_API_KEY\")"
      ]
    },
    {
      "cell_type": "code",
      "execution_count": null,
      "metadata": {
        "id": "t59WPSplbGJ7"
      },
      "outputs": [],
      "source": [
        "from langchain.llms import OpenAI, Cohere\n",
        "from langchain.prompts import PromptTemplate\n",
        "from langchain.chains import LLMChain"
      ]
    },
    {
      "cell_type": "code",
      "execution_count": null,
      "metadata": {
        "id": "ZloNuABEWq_s"
      },
      "outputs": [],
      "source": [
        "from langchain.document_loaders import PyPDFLoader\n",
        "from langchain.document_loaders import CSVLoader\n",
        "from langchain.document_loaders import TextLoader"
      ]
    },
    {
      "cell_type": "markdown",
      "metadata": {
        "id": "oC6zY59SZ1_9"
      },
      "source": [
        "# Basic Document/text Loader"
      ]
    },
    {
      "cell_type": "code",
      "execution_count": null,
      "metadata": {
        "id": "rNcik0GWWzvd"
      },
      "outputs": [],
      "source": [
        "!wget https://raw.githubusercontent.com/venkatareddykonasani/Datasets/master/Mobile_Phone_Review/Mobile.md\n",
        "\n",
        "loader = TextLoader(\"./Mobile.md\")\n",
        "loaded_text= loader.load()\n",
        "print(type(loaded_text))\n",
        "print(loaded_text)"
      ]
    },
    {
      "cell_type": "code",
      "execution_count": null,
      "metadata": {
        "id": "xUBbSZ0MUxh-"
      },
      "outputs": [],
      "source": [
        "#llm=OpenAI(temperature=0)\n",
        "llm=Cohere()\n",
        "\n",
        "template=\"\"\"\n",
        "read the following review and extract the following information:\n",
        "Name of the product\n",
        "Brand of the product\n",
        "Price of the product\n",
        "Rating of the product\n",
        "\n",
        "review is given here : {input_review}\n",
        "\"\"\"\n",
        "\n",
        "prompt=PromptTemplate(template=template,\n",
        "                       input_variables=[\"input_review\"])\n",
        "\n",
        "chain=LLMChain(llm=llm,\n",
        "               prompt=prompt)\n",
        "\n",
        "result=chain.invoke({\"input_review\":loaded_text})\n",
        "print(result['text'])"
      ]
    },
    {
      "cell_type": "markdown",
      "metadata": {
        "id": "eH4m5cRrkHE4"
      },
      "source": [
        "# Text loader Example2"
      ]
    },
    {
      "cell_type": "code",
      "execution_count": null,
      "metadata": {
        "id": "NiqxQ1v9ZhxK"
      },
      "outputs": [],
      "source": [
        "!wget https://raw.githubusercontent.com/venkatareddykonasani/Datasets/master/Client_Mail/Mail.txt\n",
        "\n",
        "loader = TextLoader(\"./Mail.txt\")\n",
        "loaded_text= loader.load()\n",
        "print(type(loaded_text))\n",
        "print(loaded_text)"
      ]
    },
    {
      "cell_type": "code",
      "execution_count": null,
      "metadata": {
        "id": "ONu0tzpYkYFR"
      },
      "outputs": [],
      "source": [
        "#llm=OpenAI(temperature=0)\n",
        "llm=Cohere()\n",
        "\n",
        "template=\"\"\"\n",
        "read the following mail and extract the following information:\n",
        "Name of the person\n",
        "Main Point of the mail\n",
        "Ticket-id\n",
        "The mail is given here : {input_mail}\n",
        "\"\"\"\n",
        "prompt=PromptTemplate(template=template,\n",
        "                       input_variables=[\"input_mail\"])\n",
        "\n",
        "chain=LLMChain(llm=llm,\n",
        "               prompt=prompt)\n",
        "\n",
        "result=chain.invoke({\"input_mail\":loaded_text})\n",
        "print(result['text'])"
      ]
    },
    {
      "cell_type": "markdown",
      "metadata": {
        "id": "LZWQNLOZcbXK"
      },
      "source": [
        "# CSV Loader"
      ]
    },
    {
      "cell_type": "code",
      "execution_count": null,
      "metadata": {
        "id": "tiV3b1uFcdms"
      },
      "outputs": [],
      "source": [
        "from langchain_community.document_loaders.csv_loader import CSVLoader\n",
        "!wget https://raw.githubusercontent.com/venkatareddykonasani/Datasets/master/Leads.csv\n",
        "\n",
        "loader = CSVLoader(file_path=\"./Leads.csv\")\n",
        "csv_file_data = loader.load()\n",
        "print(type(csv_file_data))\n",
        "print(csv_file_data)"
      ]
    },
    {
      "cell_type": "code",
      "execution_count": null,
      "metadata": {
        "id": "a4Fe1ptypQNc"
      },
      "outputs": [],
      "source": [
        "print(csv_file_data)"
      ]
    },
    {
      "cell_type": "code",
      "execution_count": null,
      "metadata": {
        "id": "uAb1P-ZYcdti"
      },
      "outputs": [],
      "source": [
        "#llm=OpenAI(temperature=0)\n",
        "llm=Cohere()\n",
        "\n",
        "template=\"\"\"\n",
        "read the following data and extract the following information:\n",
        "\n",
        "What is the average promotional budget ?\n",
        "What is the average Leads?\n",
        "\n",
        "data is given here : {input_data}\n",
        "\"\"\"\n",
        "\n",
        "prompt=PromptTemplate(template=template,\n",
        "                       input_variables=[\"input_data\"])\n",
        "\n",
        "chain=LLMChain(llm=llm,\n",
        "               prompt=prompt)"
      ]
    },
    {
      "cell_type": "code",
      "execution_count": null,
      "metadata": {
        "id": "bcA8begOp-BZ"
      },
      "outputs": [],
      "source": [
        "result=chain.invoke({\"input_data\":csv_file_data})\n",
        "print(result['text'])"
      ]
    },
    {
      "cell_type": "markdown",
      "metadata": {
        "id": "978LLhDFdTpL"
      },
      "source": [
        "#Loader Common Issue with Large Datasets\n",
        "\n",
        "Max Tokens issue"
      ]
    },
    {
      "cell_type": "code",
      "execution_count": null,
      "metadata": {
        "id": "s6nNDt6AdXIr"
      },
      "outputs": [],
      "source": [
        "from langchain_community.document_loaders.csv_loader import CSVLoader\n",
        "!wget https://raw.githubusercontent.com/venkatareddykonasani/Datasets/master/AirBnB_NY/AB_NYC_2019.csv\n",
        "\n",
        "loader = CSVLoader(file_path=\"./AB_NYC_2019.csv\")\n",
        "csv_file_data = loader.load()\n",
        "print(type(csv_file_data))\n",
        "print(csv_file_data)"
      ]
    },
    {
      "cell_type": "code",
      "execution_count": null,
      "metadata": {
        "id": "hfojbTL6gE6Y"
      },
      "outputs": [],
      "source": [
        "print(csv_file_data)"
      ]
    },
    {
      "cell_type": "code",
      "execution_count": null,
      "metadata": {
        "id": "ylsrdZu_gB31"
      },
      "outputs": [],
      "source": [
        "#llm=OpenAI(temperature=0)\n",
        "llm=Cohere()\n",
        "\n",
        "template=\"\"\"\n",
        "read the following data and extract the following information:\n",
        "\n",
        "What is the average price?\n",
        "What are the top 5 most expensive listings?\n",
        "What are the top 5 most reviewed listings?\n",
        "\n",
        "data is given here : {input_data}\n",
        "\"\"\"\n",
        "\n",
        "prompt=PromptTemplate(template=template,\n",
        "                       input_variables=[\"input_data\"])\n",
        "\n",
        "chain=LLMChain(llm=llm,\n",
        "               prompt=prompt,\n",
        "               verbose=True)"
      ]
    },
    {
      "cell_type": "code",
      "execution_count": null,
      "metadata": {
        "id": "_dqfIUqzgZ-9"
      },
      "outputs": [],
      "source": [
        "chain.invoke({\"input_data\":csv_file_data})"
      ]
    },
    {
      "cell_type": "markdown",
      "metadata": {
        "id": "7n0bXBB7rw1C"
      },
      "source": [
        "# WebBaseLoader"
      ]
    },
    {
      "cell_type": "code",
      "execution_count": null,
      "metadata": {
        "id": "_-RT3RXtrxRK"
      },
      "outputs": [],
      "source": [
        "from langchain_community.document_loaders import WebBaseLoader"
      ]
    },
    {
      "cell_type": "code",
      "execution_count": null,
      "metadata": {
        "id": "as3JfYMQrxYk"
      },
      "outputs": [],
      "source": [
        "loader = WebBaseLoader(\"https://www.amazon.in/Indigenous-Unprocessed-Unfiltered-Unpasteurized-Disorders/product-reviews/B07H5PVCH7/ref=cm_cr_dp_d_show_all_btm?ie=UTF8&reviewerType=all_reviews\")\n",
        "\n",
        "web_file_data = loader.load()\n",
        "print(type(web_file_data))\n",
        "print(web_file_data)\n",
        "print(len(web_file_data[0].page_content))\n",
        "web_file_data[0].page_content=web_file_data[0].page_content[:10000]\n",
        "print(len(web_file_data[0].page_content))"
      ]
    },
    {
      "cell_type": "code",
      "execution_count": null,
      "metadata": {
        "id": "BwGJTBLTrxhj"
      },
      "outputs": [],
      "source": [
        "#llm=OpenAI(temperature=0)\n",
        "llm=Cohere()\n",
        "\n",
        "template=\"\"\"\n",
        "read the following data summarize it into 4 bullet points\n",
        "data is given here : {input_data}\n",
        "\"\"\"\n",
        "\n",
        "prompt=PromptTemplate(template=template,\n",
        "                       input_variables=[\"input_data\"])\n",
        "\n",
        "chain=LLMChain(llm=llm,\n",
        "               prompt=prompt)"
      ]
    },
    {
      "cell_type": "code",
      "execution_count": null,
      "metadata": {
        "id": "yfBBfY5Erxkl"
      },
      "outputs": [],
      "source": [
        "result=chain.invoke({\"input_data\":web_file_data})\n",
        "result['text']"
      ]
    },
    {
      "cell_type": "markdown",
      "metadata": {
        "id": "wdQSps1NqoOe"
      },
      "source": [
        "# Wikipedia"
      ]
    },
    {
      "cell_type": "code",
      "execution_count": null,
      "metadata": {
        "id": "pDAtDqLAqU0q"
      },
      "outputs": [],
      "source": [
        "!pip install wikipedia"
      ]
    },
    {
      "cell_type": "code",
      "execution_count": null,
      "metadata": {
        "id": "Pwl33zHtqWks"
      },
      "outputs": [],
      "source": [
        "from langchain.document_loaders import WikipediaLoader\n",
        "\n",
        "loader=WikipediaLoader(query=\"Sundar Pichai\", load_max_docs=1)\n",
        "wiki_file_data=loader.load()\n",
        "print(type(wiki_file_data))\n",
        "print(wiki_file_data)"
      ]
    },
    {
      "cell_type": "markdown",
      "metadata": {
        "id": "xN5OTIWkuClH"
      },
      "source": [
        "# PyPdf Loader"
      ]
    },
    {
      "cell_type": "code",
      "execution_count": null,
      "metadata": {
        "id": "PtSL9QDbkteU"
      },
      "outputs": [],
      "source": [
        "!pip install pypdf"
      ]
    },
    {
      "cell_type": "code",
      "execution_count": null,
      "metadata": {
        "id": "a4rMdtVOp_Xm"
      },
      "outputs": [],
      "source": [
        "from langchain.document_loaders import PyPDFLoader\n",
        "\n",
        "!wget https://raw.githubusercontent.com/venkatareddykonasani/Datasets/master/Regulatory_Rules_in_Credit_Risk_Models/Regulatory_Rules_in_Credit_Risk_Models.pdf\n",
        "loader=PyPDFLoader(file_path=\"Regulatory_Rules_in_Credit_Risk_Models.pdf\")\n",
        "pdf_file_data=loader.load()\n",
        "print(type(pdf_file_data))\n",
        "print(pdf_file_data)"
      ]
    },
    {
      "cell_type": "markdown",
      "metadata": {
        "id": "OudffB9CuBFY"
      },
      "source": [
        "# HTML Loader"
      ]
    },
    {
      "cell_type": "code",
      "execution_count": null,
      "metadata": {
        "id": "wqMf-sW-hquN"
      },
      "outputs": [],
      "source": [
        "!pip install beautifulsoup4"
      ]
    },
    {
      "cell_type": "code",
      "execution_count": null,
      "metadata": {
        "id": "6K-G5vK0icIM"
      },
      "outputs": [],
      "source": [
        "from langchain.document_loaders import BSHTMLLoader"
      ]
    },
    {
      "cell_type": "code",
      "execution_count": null,
      "metadata": {
        "id": "NO8KOJ07icQD"
      },
      "outputs": [],
      "source": [
        "!wget https://raw.githubusercontent.com/venkatareddykonasani/Datasets/master/Word_bank_news_html/South_Asia_Global_Debt_Summary.html\n",
        "\n",
        "loader=BSHTMLLoader(file_path=\"South_Asia_Global_Debt_Summary.html\")\n",
        "html_file_data=loader.load()\n",
        "print(type(html_file_data))\n",
        "print(html_file_data)\n"
      ]
    },
    {
      "cell_type": "code",
      "execution_count": null,
      "metadata": {
        "id": "NshdUET4jQSm"
      },
      "outputs": [],
      "source": [
        "result=chain.invoke({\"input_data\":html_file_data})\n",
        "print(result['text'])"
      ]
    },
    {
      "cell_type": "markdown",
      "metadata": {
        "id": "tLsfAmTo9ICP"
      },
      "source": [
        "# Youtube"
      ]
    },
    {
      "cell_type": "code",
      "execution_count": null,
      "metadata": {
        "id": "IpTqdF6L9NPq"
      },
      "outputs": [],
      "source": [
        "!pip install --upgrade --quiet  youtube-transcript-api"
      ]
    },
    {
      "cell_type": "code",
      "execution_count": null,
      "metadata": {
        "id": "PRyyJ-854afp"
      },
      "outputs": [],
      "source": [
        "from langchain_community.document_loaders import YoutubeLoader\n",
        "loader = YoutubeLoader.from_youtube_url(\n",
        "    \"https://www.youtube.com/watch?v=fbQvVS_8ZNI\"\n",
        ")\n",
        "\n",
        "youtube_file_data = loader.load()\n",
        "print(type(youtube_file_data))\n",
        "print(youtube_file_data)"
      ]
    },
    {
      "cell_type": "code",
      "execution_count": null,
      "metadata": {
        "id": "iw2g9TP74ajZ"
      },
      "outputs": [],
      "source": [
        "#llm=OpenAI(temperature=0)\n",
        "llm=Cohere()\n",
        "\n",
        "template=\"\"\"\n",
        "read the following data summarize it into 4 bullet points\n",
        "data is given here : {input_data}\n",
        "\"\"\"\n",
        "\n",
        "prompt=PromptTemplate(template=template,\n",
        "                       input_variables=[\"input_data\"])\n",
        "\n",
        "chain=LLMChain(llm=llm,\n",
        "               prompt=prompt)"
      ]
    },
    {
      "cell_type": "code",
      "execution_count": null,
      "metadata": {
        "id": "weByOfC84amp"
      },
      "outputs": [],
      "source": [
        "result=chain.invoke({\"input_data\":youtube_file_data})\n",
        "result['text']"
      ]
    },
    {
      "cell_type": "markdown",
      "metadata": {
        "id": "YXk5rF70fIjU"
      },
      "source": [
        "# Output Parsers"
      ]
    },
    {
      "cell_type": "markdown",
      "metadata": {
        "id": "U7tB2NRboCRU"
      },
      "source": [
        "# CSV Parser"
      ]
    },
    {
      "cell_type": "code",
      "execution_count": null,
      "metadata": {
        "id": "myvhSEQZykO-"
      },
      "outputs": [],
      "source": [
        "from langchain.output_parsers import CommaSeparatedListOutputParser"
      ]
    },
    {
      "cell_type": "code",
      "execution_count": null,
      "metadata": {
        "id": "xgQTyz-z2c_8"
      },
      "outputs": [],
      "source": [
        "output_parser = CommaSeparatedListOutputParser()\n",
        "format_instructions = output_parser.get_format_instructions()\n",
        "print(format_instructions)"
      ]
    },
    {
      "cell_type": "code",
      "execution_count": null,
      "metadata": {
        "id": "O3XQ-jrCtI6k"
      },
      "outputs": [],
      "source": [
        "template=\"\"\"\n",
        "List down the top 10 concepts to learn from the following Topic\n",
        "Topic name is: {topic_name}\n",
        "{format_instructions}\n",
        "\"\"\"\n",
        "prompt=PromptTemplate(template=template,\n",
        "                      input_variables=[\"topic_name\", \"format_instructions\"])\n",
        "\n",
        "#llm=OpenAI(temperature=0)\n",
        "llm=Cohere()\n",
        "chain=LLMChain(prompt=prompt,\n",
        "               llm=llm)\n",
        "\n",
        "result=chain.invoke({\"topic_name\":\"Machine Learning\",\n",
        "              \"format_instructions\":format_instructions })\n",
        "print(result[\"text\"])"
      ]
    },
    {
      "cell_type": "markdown",
      "metadata": {
        "id": "iCECeiJOvz5w"
      },
      "source": [
        "# Datetime Parser"
      ]
    },
    {
      "cell_type": "code",
      "execution_count": null,
      "metadata": {
        "id": "-dbvc70id2_t"
      },
      "outputs": [],
      "source": [
        "from langchain.output_parsers import DatetimeOutputParser\n",
        "output_parser = DatetimeOutputParser()\n",
        "format_instructions=output_parser.get_format_instructions()\n",
        "print(format_instructions)"
      ]
    },
    {
      "cell_type": "code",
      "execution_count": null,
      "metadata": {
        "id": "mcL6slID6_xG"
      },
      "outputs": [],
      "source": [
        "Server_Logs =[\n",
        "    \"[2024-04-01 13:48:11] ERROR: Failed to connect to database. Retrying in 60 seconds.\",\n",
        "    \"[2023-08-04 12:01:00 AM - Warning: The system is running low on disk space.\",\n",
        "    \"[04-01-2024 13:55:39] CRITICAL: System temperature exceeds safe threshold. Initiating shutdown\",\n",
        "    \"[Monday, April 01, 2024 01:55:39 PM] DEBUG: User query executed in 0.45 seconds.\",\n",
        "    \"[13:55:39 on 2024-04-01] ERROR: Unable to send email notification. SMTP server not responding.\"\n",
        "]"
      ]
    },
    {
      "cell_type": "code",
      "execution_count": null,
      "metadata": {
        "id": "ZLN9BE3xd3Cb"
      },
      "outputs": [],
      "source": [
        "template=\"\"\"\n",
        "Read the server log text and extract the date and time\n",
        "log text is: {log_text}\n",
        "{format_instructions}\n",
        "\"\"\"\n",
        "prompt=PromptTemplate(template=template,\n",
        "                      input_variables=[\"log_text\", \"format_instructions\"])\n",
        "\n",
        "#llm=OpenAI(temperature=0)\n",
        "llm=Cohere()\n",
        "chain=LLMChain(prompt=prompt,\n",
        "               llm=llm)"
      ]
    },
    {
      "cell_type": "code",
      "execution_count": null,
      "metadata": {
        "id": "_hYgiRxCUgrj"
      },
      "outputs": [],
      "source": [
        "for log_message in Server_Logs:\n",
        "  result=chain.invoke({\"log_text\":log_message,\n",
        "                      \"format_instructions\":format_instructions })\n",
        "  print(result[\"text\"],\";\", log_message )"
      ]
    },
    {
      "cell_type": "markdown",
      "metadata": {
        "id": "Y0b1vqvg-slp"
      },
      "source": [
        "# Custom Parser - Using Pydantic"
      ]
    },
    {
      "cell_type": "markdown",
      "metadata": {
        "id": "6-_qrJWWRNjV"
      },
      "source": [
        "Pydantic is a handy tool for making sure the information (or data) your Python program receives is exactly what you expect. With Pydantic, you tell your program what kind of data it should accept (like numbers, text, or dates) using simple rules. If the data matches the rules, your program works smoothly. If not, Pydantic helps by pointing out the problem, making it easier to keep your program safe and error-free."
      ]
    },
    {
      "cell_type": "code",
      "execution_count": null,
      "metadata": {
        "id": "20TBOu0yQ4Rt"
      },
      "outputs": [],
      "source": [
        "from pydantic import BaseModel, ValidationError\n",
        "\n",
        "class User(BaseModel):\n",
        "    name: str\n",
        "    age: int\n",
        "\n",
        "# Correct data\n",
        "user = User(name=\"Alice\", age=30)\n",
        "print(user)\n",
        "\n",
        "# Incorrect data raises an error\n",
        "User(name=\"Bob\", age=\"thirty\")\n"
      ]
    },
    {
      "cell_type": "code",
      "execution_count": null,
      "metadata": {
        "id": "W76mgSlFd3FO"
      },
      "outputs": [],
      "source": [
        "from langchain.output_parsers import PydanticOutputParser\n",
        "from pydantic import BaseModel, Field"
      ]
    },
    {
      "cell_type": "code",
      "execution_count": null,
      "metadata": {
        "id": "mHv5UoKMd3IC"
      },
      "outputs": [],
      "source": [
        "class Scientist(BaseModel):\n",
        "  name: str= Field(description= \"Name of the Scientist\")\n",
        "  dob: str= Field(description= \"Date of Birth of the Scientist\")\n",
        "  bio: str= Field(description= \"Biography of the Scientist\")"
      ]
    },
    {
      "cell_type": "code",
      "execution_count": null,
      "metadata": {
        "id": "sZmObKZ2d3Kq"
      },
      "outputs": [],
      "source": [
        "custom_output_parser= PydanticOutputParser(pydantic_object=Scientist)\n",
        "print(custom_output_parser.get_format_instructions())"
      ]
    },
    {
      "cell_type": "code",
      "execution_count": null,
      "metadata": {
        "id": "bYLuAN3xd3Nk"
      },
      "outputs": [],
      "source": [
        "template=\"\"\"\n",
        "Take the name of the scientist is {name} and try to fill the rest of the details\n",
        "{format_instructions}\n",
        "\"\"\"\n",
        "prompt=PromptTemplate(template=template,\n",
        "                      input_variables=[\"name\", \"format_instructions\"])\n",
        "\n",
        "#llm=OpenAI(temperature=0)\n",
        "llm=Cohere()\n",
        "chain=LLMChain(prompt=prompt,\n",
        "               llm=llm)\n",
        "\n",
        "result=chain.invoke({\"name\":\"Ramanujan\",\n",
        "                      \"format_instructions\":custom_output_parser.get_format_instructions() })\n",
        "print(result[\"text\"])\n"
      ]
    },
    {
      "cell_type": "markdown",
      "metadata": {
        "id": "fCPai0MDVPym"
      },
      "source": [
        "# EmailResponse App"
      ]
    },
    {
      "cell_type": "code",
      "execution_count": null,
      "metadata": {
        "id": "KXzdQZCWgaDV"
      },
      "outputs": [],
      "source": [
        "import random as rand\n",
        "import requests\n",
        "from langchain.document_loaders import WebBaseLoader\n",
        "from langchain.prompts import PromptTemplate\n",
        "from langchain.llms import OpenAI\n",
        "from langchain.chains import LLMChain"
      ]
    },
    {
      "cell_type": "code",
      "execution_count": null,
      "metadata": {
        "id": "T0yJSrjjiMCX"
      },
      "outputs": [],
      "source": [
        "email_location=\"https://raw.githubusercontent.com/venkatareddykonasani/Datasets/master/Customer_Emails/Mail\"+str(rand.randint(1,5))+\".txt\"\n",
        "print(email_location)\n",
        "\n",
        "loader = WebBaseLoader(email_location)\n",
        "loaded_text= loader.load()\n",
        "print(type(loaded_text))\n",
        "final_mail=loaded_text[0].page_content\n",
        "print(final_mail)"
      ]
    },
    {
      "cell_type": "code",
      "execution_count": null,
      "metadata": {
        "id": "ca1pFAanWcco"
      },
      "outputs": [],
      "source": [
        "from langchain.output_parsers import PydanticOutputParser\n",
        "from pydantic import BaseModel, Field\n",
        "\n",
        "class EmailResponse(BaseModel):\n",
        "  Email_Language: str= Field(description= \"The Original Language of the Email\")\n",
        "  Customer_ID: str= Field(description= \"The Customer ID mentioned in the mail\")\n",
        "  English_email: str= Field(description= \"The email after translating to English\")\n",
        "  Summary: str= Field(description= \"A 4 bullets point summary of the email\")\n",
        "  Reply: str= Field(description= \"A polite 2 line reply to the email\")\n",
        "\n",
        "custom_output_parser= PydanticOutputParser(pydantic_object=EmailResponse)\n",
        "print(custom_output_parser.get_format_instructions())"
      ]
    },
    {
      "cell_type": "code",
      "execution_count": null,
      "metadata": {
        "id": "LrWNYaWvViUR"
      },
      "outputs": [],
      "source": [
        "template=\"\"\"\n",
        "Take the email as input. Email text is {email}\n",
        "{format_instructions}\n",
        "\"\"\"\n",
        "prompt=PromptTemplate(template=template,\n",
        "                      input_variables=[\"email\",\"format_instructions\"])\n",
        "\n",
        "#llm=OpenAI(temperature=0)\n",
        "llm=Cohere()\n",
        "\n",
        "chain=LLMChain(prompt=prompt,\n",
        "               llm=llm)\n",
        "\n",
        "result=chain.invoke({\"email\":final_mail,\n",
        "                     \"format_instructions\":custom_output_parser.get_format_instructions()})\n",
        "print(result[\"text\"])"
      ]
    },
    {
      "cell_type": "code",
      "execution_count": null,
      "metadata": {
        "id": "SXeKeM1jViaA"
      },
      "outputs": [],
      "source": []
    },
    {
      "cell_type": "code",
      "execution_count": null,
      "metadata": {
        "id": "-UE3tv8ZVieZ"
      },
      "outputs": [],
      "source": []
    },
    {
      "cell_type": "code",
      "execution_count": null,
      "metadata": {
        "id": "NHLUBiVPVihv"
      },
      "outputs": [],
      "source": []
    },
    {
      "cell_type": "code",
      "execution_count": null,
      "metadata": {
        "id": "gvJ9i0_EvnMI"
      },
      "outputs": [],
      "source": []
    }
  ],
  "metadata": {
    "colab": {
      "provenance": [],
      "include_colab_link": true
    },
    "kernelspec": {
      "display_name": "Python 3",
      "name": "python3"
    },
    "language_info": {
      "name": "python"
    }
  },
  "nbformat": 4,
  "nbformat_minor": 0
}